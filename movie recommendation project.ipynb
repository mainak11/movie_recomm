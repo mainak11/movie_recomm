{
 "cells": [
  {
   "cell_type": "markdown",
   "id": "7a57dec3",
   "metadata": {},
   "source": [
    "# Import Libraries"
   ]
  },
  {
   "cell_type": "code",
   "execution_count": 1,
   "id": "3c31ed96",
   "metadata": {},
   "outputs": [],
   "source": [
    "import numpy as np\n",
    "import pandas as pd\n",
    "import ast"
   ]
  },
  {
   "cell_type": "markdown",
   "id": "f9299a3a",
   "metadata": {},
   "source": [
    "# Import English Movie Data"
   ]
  },
  {
   "cell_type": "code",
   "execution_count": 2,
   "id": "94aa47b7",
   "metadata": {},
   "outputs": [],
   "source": [
    "movies_english=pd.read_csv(\"english movies data.csv\")"
   ]
  },
  {
   "cell_type": "code",
   "execution_count": 3,
   "id": "8b522f88",
   "metadata": {},
   "outputs": [],
   "source": [
    "movies_english=movies_english.drop(['time'],axis=1)"
   ]
  },
  {
   "cell_type": "code",
   "execution_count": 4,
   "id": "cabf6c43",
   "metadata": {},
   "outputs": [],
   "source": [
    "movies_english['cast']=movies_english['cast'].str.split('|').str[1]\n",
    "movies_english['cast']=movies_english['cast'].str.split(':').str[1]"
   ]
  },
  {
   "cell_type": "code",
   "execution_count": 5,
   "id": "1a0c98a4",
   "metadata": {},
   "outputs": [
    {
     "data": {
      "text/html": [
       "<div>\n",
       "<style scoped>\n",
       "    .dataframe tbody tr th:only-of-type {\n",
       "        vertical-align: middle;\n",
       "    }\n",
       "\n",
       "    .dataframe tbody tr th {\n",
       "        vertical-align: top;\n",
       "    }\n",
       "\n",
       "    .dataframe thead th {\n",
       "        text-align: right;\n",
       "    }\n",
       "</style>\n",
       "<table border=\"1\" class=\"dataframe\">\n",
       "  <thead>\n",
       "    <tr style=\"text-align: right;\">\n",
       "      <th></th>\n",
       "      <th>title</th>\n",
       "      <th>genre</th>\n",
       "      <th>director</th>\n",
       "      <th>director_url</th>\n",
       "      <th>cast</th>\n",
       "      <th>description</th>\n",
       "      <th>rateing</th>\n",
       "      <th>poster</th>\n",
       "      <th>poster_url</th>\n",
       "    </tr>\n",
       "  </thead>\n",
       "  <tbody>\n",
       "    <tr>\n",
       "      <th>0</th>\n",
       "      <td>The Shawshank Redemption</td>\n",
       "      <td>Drama</td>\n",
       "      <td>Frank Darabont</td>\n",
       "      <td>https://www.imdb.com/name/nm0001104/?ref_=adv_...</td>\n",
       "      <td>Tim Robbins, Morgan Freeman, Bob Gunton, Will...</td>\n",
       "      <td>Two imprisoned men bond over a number of years...</td>\n",
       "      <td>9.3</td>\n",
       "      <td>https://m.media-amazon.com/images/M/MV5BMDFkYT...</td>\n",
       "      <td>https://www.imdb.com/title/tt0111161/?ref_=adv...</td>\n",
       "    </tr>\n",
       "  </tbody>\n",
       "</table>\n",
       "</div>"
      ],
      "text/plain": [
       "                      title  genre        director  \\\n",
       "0  The Shawshank Redemption  Drama  Frank Darabont   \n",
       "\n",
       "                                        director_url  \\\n",
       "0  https://www.imdb.com/name/nm0001104/?ref_=adv_...   \n",
       "\n",
       "                                                cast  \\\n",
       "0   Tim Robbins, Morgan Freeman, Bob Gunton, Will...   \n",
       "\n",
       "                                         description  rateing  \\\n",
       "0  Two imprisoned men bond over a number of years...      9.3   \n",
       "\n",
       "                                              poster  \\\n",
       "0  https://m.media-amazon.com/images/M/MV5BMDFkYT...   \n",
       "\n",
       "                                          poster_url  \n",
       "0  https://www.imdb.com/title/tt0111161/?ref_=adv...  "
      ]
     },
     "execution_count": 5,
     "metadata": {},
     "output_type": "execute_result"
    }
   ],
   "source": [
    "movies_english.head(1)"
   ]
  },
  {
   "cell_type": "markdown",
   "id": "d73eebaa",
   "metadata": {},
   "source": [
    "# Import Hindi Movie Data"
   ]
  },
  {
   "cell_type": "code",
   "execution_count": 6,
   "id": "94d1e460",
   "metadata": {},
   "outputs": [],
   "source": [
    "movies_hindi=pd.read_csv('hindi movies data.csv')"
   ]
  },
  {
   "cell_type": "code",
   "execution_count": 7,
   "id": "41dfd957",
   "metadata": {},
   "outputs": [],
   "source": [
    "movies_hindi['cast']=movies_hindi['cast'].str.split('|').str[1]\n",
    "movies_hindi['cast']=movies_hindi['cast'].str.split(':').str[1]"
   ]
  },
  {
   "cell_type": "code",
   "execution_count": 8,
   "id": "3462bf47",
   "metadata": {},
   "outputs": [
    {
     "data": {
      "text/html": [
       "<div>\n",
       "<style scoped>\n",
       "    .dataframe tbody tr th:only-of-type {\n",
       "        vertical-align: middle;\n",
       "    }\n",
       "\n",
       "    .dataframe tbody tr th {\n",
       "        vertical-align: top;\n",
       "    }\n",
       "\n",
       "    .dataframe thead th {\n",
       "        text-align: right;\n",
       "    }\n",
       "</style>\n",
       "<table border=\"1\" class=\"dataframe\">\n",
       "  <thead>\n",
       "    <tr style=\"text-align: right;\">\n",
       "      <th></th>\n",
       "      <th>title</th>\n",
       "      <th>genre</th>\n",
       "      <th>time</th>\n",
       "      <th>description</th>\n",
       "      <th>director</th>\n",
       "      <th>director_url</th>\n",
       "      <th>cast</th>\n",
       "      <th>poster</th>\n",
       "      <th>poster_url</th>\n",
       "    </tr>\n",
       "  </thead>\n",
       "  <tbody>\n",
       "    <tr>\n",
       "      <th>0</th>\n",
       "      <td>3 Idiots</td>\n",
       "      <td>Comedy, Drama</td>\n",
       "      <td>170 min</td>\n",
       "      <td>Two friends are searching for their long lost ...</td>\n",
       "      <td>Rajkumar Hirani</td>\n",
       "      <td>https://www.imdb.com/name/nm0386246/?ref_=adv_...</td>\n",
       "      <td>Aamir Khan, Madhavan, Mona Singh, Sharman Joshi</td>\n",
       "      <td>https://m.media-amazon.com/images/M/MV5BNTkyOG...</td>\n",
       "      <td>https://www.imdb.com/title/tt1187043/?ref_=adv...</td>\n",
       "    </tr>\n",
       "  </tbody>\n",
       "</table>\n",
       "</div>"
      ],
      "text/plain": [
       "      title          genre     time  \\\n",
       "0  3 Idiots  Comedy, Drama  170 min   \n",
       "\n",
       "                                         description         director  \\\n",
       "0  Two friends are searching for their long lost ...  Rajkumar Hirani   \n",
       "\n",
       "                                        director_url  \\\n",
       "0  https://www.imdb.com/name/nm0386246/?ref_=adv_...   \n",
       "\n",
       "                                               cast  \\\n",
       "0   Aamir Khan, Madhavan, Mona Singh, Sharman Joshi   \n",
       "\n",
       "                                              poster  \\\n",
       "0  https://m.media-amazon.com/images/M/MV5BNTkyOG...   \n",
       "\n",
       "                                          poster_url  \n",
       "0  https://www.imdb.com/title/tt1187043/?ref_=adv...  "
      ]
     },
     "execution_count": 8,
     "metadata": {},
     "output_type": "execute_result"
    }
   ],
   "source": [
    "movies_hindi.head(1)"
   ]
  },
  {
   "cell_type": "code",
   "execution_count": 9,
   "id": "6702c5d1",
   "metadata": {},
   "outputs": [
    {
     "data": {
      "text/plain": [
       "title              0\n",
       "genre            151\n",
       "time            3983\n",
       "description        0\n",
       "director           9\n",
       "director_url       9\n",
       "cast            1389\n",
       "poster             0\n",
       "poster_url         0\n",
       "dtype: int64"
      ]
     },
     "execution_count": 9,
     "metadata": {},
     "output_type": "execute_result"
    }
   ],
   "source": [
    "movies_hindi.isnull().sum()"
   ]
  },
  {
   "cell_type": "code",
   "execution_count": 10,
   "id": "96980164",
   "metadata": {},
   "outputs": [],
   "source": [
    "movies_hindi=movies_hindi.drop(['time'],axis=1)"
   ]
  },
  {
   "cell_type": "markdown",
   "id": "da6f057c",
   "metadata": {},
   "source": [
    "# Drop Null values"
   ]
  },
  {
   "cell_type": "code",
   "execution_count": 11,
   "id": "211efc3e",
   "metadata": {},
   "outputs": [
    {
     "name": "stdout",
     "output_type": "stream",
     "text": [
      "(8501, 8)\n"
     ]
    }
   ],
   "source": [
    "movies_hindi.dropna(inplace=True)\n",
    "print(movies_hindi.shape)"
   ]
  },
  {
   "cell_type": "markdown",
   "id": "97efb7dc",
   "metadata": {},
   "source": [
    "# Import Bengali Movie Data"
   ]
  },
  {
   "cell_type": "code",
   "execution_count": 12,
   "id": "72f587af",
   "metadata": {},
   "outputs": [
    {
     "data": {
      "text/html": [
       "<div>\n",
       "<style scoped>\n",
       "    .dataframe tbody tr th:only-of-type {\n",
       "        vertical-align: middle;\n",
       "    }\n",
       "\n",
       "    .dataframe tbody tr th {\n",
       "        vertical-align: top;\n",
       "    }\n",
       "\n",
       "    .dataframe thead th {\n",
       "        text-align: right;\n",
       "    }\n",
       "</style>\n",
       "<table border=\"1\" class=\"dataframe\">\n",
       "  <thead>\n",
       "    <tr style=\"text-align: right;\">\n",
       "      <th></th>\n",
       "      <th>title</th>\n",
       "      <th>genre</th>\n",
       "      <th>director</th>\n",
       "      <th>director_url</th>\n",
       "      <th>cast</th>\n",
       "      <th>time</th>\n",
       "      <th>rateing</th>\n",
       "      <th>description</th>\n",
       "      <th>poster</th>\n",
       "      <th>poster_url</th>\n",
       "    </tr>\n",
       "  </thead>\n",
       "  <tbody>\n",
       "    <tr>\n",
       "      <th>0</th>\n",
       "      <td>Redrum</td>\n",
       "      <td>Mystery, Thriller</td>\n",
       "      <td>Vicky Zahed</td>\n",
       "      <td>https://www.imdb.com/name/nm5418890/?ref_=adv_...</td>\n",
       "      <td>Director: Vicky Zahed | Stars: Mehazabien Chow...</td>\n",
       "      <td>132 min</td>\n",
       "      <td>8.5</td>\n",
       "      <td>Famous musician Shohel is found dead in his be...</td>\n",
       "      <td>https://m.media-amazon.com/images/M/MV5BNWFmYj...</td>\n",
       "      <td>https://www.imdb.com/title/tt18184122/?ref_=ad...</td>\n",
       "    </tr>\n",
       "  </tbody>\n",
       "</table>\n",
       "</div>"
      ],
      "text/plain": [
       "    title              genre     director  \\\n",
       "0  Redrum  Mystery, Thriller  Vicky Zahed   \n",
       "\n",
       "                                        director_url  \\\n",
       "0  https://www.imdb.com/name/nm5418890/?ref_=adv_...   \n",
       "\n",
       "                                                cast     time  rateing  \\\n",
       "0  Director: Vicky Zahed | Stars: Mehazabien Chow...  132 min      8.5   \n",
       "\n",
       "                                         description  \\\n",
       "0  Famous musician Shohel is found dead in his be...   \n",
       "\n",
       "                                              poster  \\\n",
       "0  https://m.media-amazon.com/images/M/MV5BNWFmYj...   \n",
       "\n",
       "                                          poster_url  \n",
       "0  https://www.imdb.com/title/tt18184122/?ref_=ad...  "
      ]
     },
     "execution_count": 12,
     "metadata": {},
     "output_type": "execute_result"
    }
   ],
   "source": [
    "movies_bengali=pd.read_csv('bengali movies data.csv')\n",
    "movies_bengali.head(1)"
   ]
  },
  {
   "cell_type": "code",
   "execution_count": 13,
   "id": "51552d34",
   "metadata": {},
   "outputs": [],
   "source": [
    "movies_bengali['cast']=movies_bengali['cast'].str.split('|').str[1]"
   ]
  },
  {
   "cell_type": "code",
   "execution_count": 14,
   "id": "b25899c7",
   "metadata": {},
   "outputs": [],
   "source": [
    "movies_bengali['cast']=movies_bengali['cast'].str.split(':').str[1]"
   ]
  },
  {
   "cell_type": "code",
   "execution_count": 15,
   "id": "d05cee22",
   "metadata": {},
   "outputs": [
    {
     "data": {
      "text/html": [
       "<div>\n",
       "<style scoped>\n",
       "    .dataframe tbody tr th:only-of-type {\n",
       "        vertical-align: middle;\n",
       "    }\n",
       "\n",
       "    .dataframe tbody tr th {\n",
       "        vertical-align: top;\n",
       "    }\n",
       "\n",
       "    .dataframe thead th {\n",
       "        text-align: right;\n",
       "    }\n",
       "</style>\n",
       "<table border=\"1\" class=\"dataframe\">\n",
       "  <thead>\n",
       "    <tr style=\"text-align: right;\">\n",
       "      <th></th>\n",
       "      <th>title</th>\n",
       "      <th>genre</th>\n",
       "      <th>director</th>\n",
       "      <th>director_url</th>\n",
       "      <th>cast</th>\n",
       "      <th>time</th>\n",
       "      <th>rateing</th>\n",
       "      <th>description</th>\n",
       "      <th>poster</th>\n",
       "      <th>poster_url</th>\n",
       "    </tr>\n",
       "  </thead>\n",
       "  <tbody>\n",
       "    <tr>\n",
       "      <th>0</th>\n",
       "      <td>Redrum</td>\n",
       "      <td>Mystery, Thriller</td>\n",
       "      <td>Vicky Zahed</td>\n",
       "      <td>https://www.imdb.com/name/nm5418890/?ref_=adv_...</td>\n",
       "      <td>Mehazabien Chowdhury, Azizul Hakim, Nasir Udd...</td>\n",
       "      <td>132 min</td>\n",
       "      <td>8.5</td>\n",
       "      <td>Famous musician Shohel is found dead in his be...</td>\n",
       "      <td>https://m.media-amazon.com/images/M/MV5BNWFmYj...</td>\n",
       "      <td>https://www.imdb.com/title/tt18184122/?ref_=ad...</td>\n",
       "    </tr>\n",
       "  </tbody>\n",
       "</table>\n",
       "</div>"
      ],
      "text/plain": [
       "    title              genre     director  \\\n",
       "0  Redrum  Mystery, Thriller  Vicky Zahed   \n",
       "\n",
       "                                        director_url  \\\n",
       "0  https://www.imdb.com/name/nm5418890/?ref_=adv_...   \n",
       "\n",
       "                                                cast     time  rateing  \\\n",
       "0   Mehazabien Chowdhury, Azizul Hakim, Nasir Udd...  132 min      8.5   \n",
       "\n",
       "                                         description  \\\n",
       "0  Famous musician Shohel is found dead in his be...   \n",
       "\n",
       "                                              poster  \\\n",
       "0  https://m.media-amazon.com/images/M/MV5BNWFmYj...   \n",
       "\n",
       "                                          poster_url  \n",
       "0  https://www.imdb.com/title/tt18184122/?ref_=ad...  "
      ]
     },
     "execution_count": 15,
     "metadata": {},
     "output_type": "execute_result"
    }
   ],
   "source": [
    "movies_bengali.head(1)"
   ]
  },
  {
   "cell_type": "code",
   "execution_count": 16,
   "id": "af7534ff",
   "metadata": {},
   "outputs": [
    {
     "data": {
      "text/plain": [
       "title              0\n",
       "genre            177\n",
       "director           6\n",
       "director_url       6\n",
       "cast             282\n",
       "time            2136\n",
       "rateing         2315\n",
       "description        0\n",
       "poster             0\n",
       "poster_url         0\n",
       "dtype: int64"
      ]
     },
     "execution_count": 16,
     "metadata": {},
     "output_type": "execute_result"
    }
   ],
   "source": [
    "movies_bengali.isnull().sum()"
   ]
  },
  {
   "cell_type": "code",
   "execution_count": 17,
   "id": "dedfd1ef",
   "metadata": {},
   "outputs": [],
   "source": [
    "movies_bengali=movies_bengali.drop(['time','rateing'],axis=1)"
   ]
  },
  {
   "cell_type": "code",
   "execution_count": 18,
   "id": "056caf07",
   "metadata": {},
   "outputs": [],
   "source": [
    "movies_bengali.dropna(inplace=True)"
   ]
  },
  {
   "cell_type": "code",
   "execution_count": 19,
   "id": "81567db8",
   "metadata": {},
   "outputs": [
    {
     "name": "stdout",
     "output_type": "stream",
     "text": [
      "(4108, 8)\n"
     ]
    }
   ],
   "source": [
    "print(movies_bengali.shape)"
   ]
  },
  {
   "cell_type": "markdown",
   "id": "42105a27",
   "metadata": {},
   "source": [
    "# Preprocessing All Movie Data"
   ]
  },
  {
   "cell_type": "code",
   "execution_count": 20,
   "id": "d2ddac9e",
   "metadata": {},
   "outputs": [],
   "source": [
    "movies_english['description']=movies_english['description'].apply(lambda x:x.split())\n",
    "movies_hindi['description']=movies_hindi['description'].apply(lambda x:x.split())\n",
    "movies_bengali['description']=movies_bengali['description'].apply(lambda x:x.split())"
   ]
  },
  {
   "cell_type": "code",
   "execution_count": 21,
   "id": "df4b1f00",
   "metadata": {},
   "outputs": [],
   "source": [
    "movies_english['genre']=movies_english['genre'].tolist()\n",
    "movies_english['cast']=movies_english['cast'].tolist()\n",
    "movies_english['director']=movies_english['director'].tolist()"
   ]
  },
  {
   "cell_type": "code",
   "execution_count": 22,
   "id": "b62ae253",
   "metadata": {},
   "outputs": [],
   "source": [
    "movies_english.dropna(inplace=True)"
   ]
  },
  {
   "cell_type": "code",
   "execution_count": 23,
   "id": "d52ffca0",
   "metadata": {},
   "outputs": [],
   "source": [
    "movies_english['cast']=movies_english['cast'].apply(lambda x:\" \".join(x))"
   ]
  },
  {
   "cell_type": "code",
   "execution_count": 24,
   "id": "e82834f6",
   "metadata": {},
   "outputs": [],
   "source": [
    "movies_english['genre']=movies_english['genre'].apply(lambda x:x.replace(\"-\",\"\"))\n",
    "movies_english['cast']=movies_english['cast'].apply(lambda x:x.replace(\" \",\"\"))\n",
    "movies_english['director']=movies_english['director'].apply(lambda x:x.replace(\" \",\"\"))"
   ]
  },
  {
   "cell_type": "code",
   "execution_count": 25,
   "id": "a3b25a98",
   "metadata": {},
   "outputs": [],
   "source": [
    "movies_english['genre']=movies_english['genre'].apply(lambda x:x.split())\n",
    "movies_english['cast']=movies_english['cast'].apply(lambda x:x.split())\n",
    "movies_english['director']=movies_english['director'].apply(lambda x:x.split())"
   ]
  },
  {
   "cell_type": "code",
   "execution_count": 26,
   "id": "1910c2b4",
   "metadata": {},
   "outputs": [],
   "source": [
    "movies_hindi['genre']=movies_hindi['genre'].tolist()\n",
    "movies_hindi['cast']=movies_hindi['cast'].tolist()\n",
    "movies_hindi['director']=movies_hindi['director'].tolist()"
   ]
  },
  {
   "cell_type": "code",
   "execution_count": 27,
   "id": "a04e2a11",
   "metadata": {},
   "outputs": [],
   "source": [
    "movies_hindi['cast']=movies_hindi['cast'].apply(lambda x:\" \".join(x))"
   ]
  },
  {
   "cell_type": "code",
   "execution_count": 28,
   "id": "e60300e8",
   "metadata": {},
   "outputs": [],
   "source": [
    "movies_hindi['genre']=movies_hindi['genre'].apply(lambda x:x.replace(\"-\",\"\"))\n",
    "movies_hindi['cast']=movies_hindi['cast'].apply(lambda x:x.replace(\" \",\"\"))\n",
    "movies_hindi['director']=movies_hindi['director'].apply(lambda x:x.replace(\" \",\"\"))"
   ]
  },
  {
   "cell_type": "code",
   "execution_count": 29,
   "id": "2e4bd5db",
   "metadata": {},
   "outputs": [],
   "source": [
    "movies_hindi['genre']=movies_hindi['genre'].apply(lambda x:x.split())\n",
    "movies_hindi['cast']=movies_hindi['cast'].apply(lambda x:x.split())\n",
    "movies_hindi['director']=movies_hindi['director'].apply(lambda x:x.split())"
   ]
  },
  {
   "cell_type": "code",
   "execution_count": 30,
   "id": "3fd181d1",
   "metadata": {},
   "outputs": [],
   "source": [
    "movies_bengali['genre']=movies_bengali['genre'].tolist()\n",
    "movies_bengali['cast']=movies_bengali['cast'].tolist()\n",
    "movies_bengali['director']=movies_bengali['director'].tolist()"
   ]
  },
  {
   "cell_type": "code",
   "execution_count": 31,
   "id": "49a446d9",
   "metadata": {},
   "outputs": [],
   "source": [
    "movies_bengali['cast']=movies_bengali['cast'].apply(lambda x:\" \".join(x))"
   ]
  },
  {
   "cell_type": "code",
   "execution_count": 32,
   "id": "68442f36",
   "metadata": {},
   "outputs": [],
   "source": [
    "movies_bengali['genre']=movies_bengali['genre'].apply(lambda x:x.replace(\"-\",\"\"))\n",
    "movies_bengali['cast']=movies_bengali['cast'].apply(lambda x:x.replace(\" \",\"\"))\n",
    "movies_bengali['director']=movies_bengali['director'].apply(lambda x:x.replace(\" \",\"\"))"
   ]
  },
  {
   "cell_type": "code",
   "execution_count": 33,
   "id": "8c5ee97c",
   "metadata": {},
   "outputs": [],
   "source": [
    "movies_bengali['genre']=movies_bengali['genre'].apply(lambda x:x.split())\n",
    "movies_bengali['cast']=movies_bengali['cast'].apply(lambda x:x.split())\n",
    "movies_bengali['director']=movies_bengali['director'].apply(lambda x:x.split())"
   ]
  },
  {
   "cell_type": "code",
   "execution_count": 34,
   "id": "d60c3c27",
   "metadata": {},
   "outputs": [
    {
     "data": {
      "text/html": [
       "<div>\n",
       "<style scoped>\n",
       "    .dataframe tbody tr th:only-of-type {\n",
       "        vertical-align: middle;\n",
       "    }\n",
       "\n",
       "    .dataframe tbody tr th {\n",
       "        vertical-align: top;\n",
       "    }\n",
       "\n",
       "    .dataframe thead th {\n",
       "        text-align: right;\n",
       "    }\n",
       "</style>\n",
       "<table border=\"1\" class=\"dataframe\">\n",
       "  <thead>\n",
       "    <tr style=\"text-align: right;\">\n",
       "      <th></th>\n",
       "      <th>title</th>\n",
       "      <th>genre</th>\n",
       "      <th>director</th>\n",
       "      <th>director_url</th>\n",
       "      <th>cast</th>\n",
       "      <th>description</th>\n",
       "      <th>poster</th>\n",
       "      <th>poster_url</th>\n",
       "    </tr>\n",
       "  </thead>\n",
       "  <tbody>\n",
       "    <tr>\n",
       "      <th>0</th>\n",
       "      <td>Redrum</td>\n",
       "      <td>[Mystery,, Thriller]</td>\n",
       "      <td>[VickyZahed]</td>\n",
       "      <td>https://www.imdb.com/name/nm5418890/?ref_=adv_...</td>\n",
       "      <td>[MehazabienChowdhury,AzizulHakim,NasirUddinKha...</td>\n",
       "      <td>[Famous, musician, Shohel, is, found, dead, in...</td>\n",
       "      <td>https://m.media-amazon.com/images/M/MV5BNWFmYj...</td>\n",
       "      <td>https://www.imdb.com/title/tt18184122/?ref_=ad...</td>\n",
       "    </tr>\n",
       "    <tr>\n",
       "      <th>1</th>\n",
       "      <td>Pather Panchali</td>\n",
       "      <td>[Drama]</td>\n",
       "      <td>[SatyajitRay]</td>\n",
       "      <td>https://www.imdb.com/name/nm0006249/?ref_=adv_...</td>\n",
       "      <td>[KanuBannerjee,KarunaBannerjee,SubirBanerjee,C...</td>\n",
       "      <td>[Impoverished, priest, Harihar, Ray,, dreaming...</td>\n",
       "      <td>https://m.media-amazon.com/images/M/MV5BMmFkND...</td>\n",
       "      <td>https://www.imdb.com/title/tt0048473/?ref_=adv...</td>\n",
       "    </tr>\n",
       "  </tbody>\n",
       "</table>\n",
       "</div>"
      ],
      "text/plain": [
       "             title                 genre       director  \\\n",
       "0           Redrum  [Mystery,, Thriller]   [VickyZahed]   \n",
       "1  Pather Panchali               [Drama]  [SatyajitRay]   \n",
       "\n",
       "                                        director_url  \\\n",
       "0  https://www.imdb.com/name/nm5418890/?ref_=adv_...   \n",
       "1  https://www.imdb.com/name/nm0006249/?ref_=adv_...   \n",
       "\n",
       "                                                cast  \\\n",
       "0  [MehazabienChowdhury,AzizulHakim,NasirUddinKha...   \n",
       "1  [KanuBannerjee,KarunaBannerjee,SubirBanerjee,C...   \n",
       "\n",
       "                                         description  \\\n",
       "0  [Famous, musician, Shohel, is, found, dead, in...   \n",
       "1  [Impoverished, priest, Harihar, Ray,, dreaming...   \n",
       "\n",
       "                                              poster  \\\n",
       "0  https://m.media-amazon.com/images/M/MV5BNWFmYj...   \n",
       "1  https://m.media-amazon.com/images/M/MV5BMmFkND...   \n",
       "\n",
       "                                          poster_url  \n",
       "0  https://www.imdb.com/title/tt18184122/?ref_=ad...  \n",
       "1  https://www.imdb.com/title/tt0048473/?ref_=adv...  "
      ]
     },
     "execution_count": 34,
     "metadata": {},
     "output_type": "execute_result"
    }
   ],
   "source": [
    "movies_bengali.head(2)"
   ]
  },
  {
   "cell_type": "code",
   "execution_count": 35,
   "id": "4d656ade",
   "metadata": {},
   "outputs": [
    {
     "data": {
      "text/html": [
       "<div>\n",
       "<style scoped>\n",
       "    .dataframe tbody tr th:only-of-type {\n",
       "        vertical-align: middle;\n",
       "    }\n",
       "\n",
       "    .dataframe tbody tr th {\n",
       "        vertical-align: top;\n",
       "    }\n",
       "\n",
       "    .dataframe thead th {\n",
       "        text-align: right;\n",
       "    }\n",
       "</style>\n",
       "<table border=\"1\" class=\"dataframe\">\n",
       "  <thead>\n",
       "    <tr style=\"text-align: right;\">\n",
       "      <th></th>\n",
       "      <th>title</th>\n",
       "      <th>genre</th>\n",
       "      <th>description</th>\n",
       "      <th>director</th>\n",
       "      <th>director_url</th>\n",
       "      <th>cast</th>\n",
       "      <th>poster</th>\n",
       "      <th>poster_url</th>\n",
       "    </tr>\n",
       "  </thead>\n",
       "  <tbody>\n",
       "    <tr>\n",
       "      <th>0</th>\n",
       "      <td>3 Idiots</td>\n",
       "      <td>[Comedy,, Drama]</td>\n",
       "      <td>[Two, friends, are, searching, for, their, lon...</td>\n",
       "      <td>[RajkumarHirani]</td>\n",
       "      <td>https://www.imdb.com/name/nm0386246/?ref_=adv_...</td>\n",
       "      <td>[AamirKhan,Madhavan,MonaSingh,SharmanJoshi]</td>\n",
       "      <td>https://m.media-amazon.com/images/M/MV5BNTkyOG...</td>\n",
       "      <td>https://www.imdb.com/title/tt1187043/?ref_=adv...</td>\n",
       "    </tr>\n",
       "  </tbody>\n",
       "</table>\n",
       "</div>"
      ],
      "text/plain": [
       "      title             genre  \\\n",
       "0  3 Idiots  [Comedy,, Drama]   \n",
       "\n",
       "                                         description          director  \\\n",
       "0  [Two, friends, are, searching, for, their, lon...  [RajkumarHirani]   \n",
       "\n",
       "                                        director_url  \\\n",
       "0  https://www.imdb.com/name/nm0386246/?ref_=adv_...   \n",
       "\n",
       "                                          cast  \\\n",
       "0  [AamirKhan,Madhavan,MonaSingh,SharmanJoshi]   \n",
       "\n",
       "                                              poster  \\\n",
       "0  https://m.media-amazon.com/images/M/MV5BNTkyOG...   \n",
       "\n",
       "                                          poster_url  \n",
       "0  https://www.imdb.com/title/tt1187043/?ref_=adv...  "
      ]
     },
     "execution_count": 35,
     "metadata": {},
     "output_type": "execute_result"
    }
   ],
   "source": [
    "movies_hindi.head(1)"
   ]
  },
  {
   "cell_type": "code",
   "execution_count": 36,
   "id": "19892887",
   "metadata": {},
   "outputs": [
    {
     "data": {
      "text/html": [
       "<div>\n",
       "<style scoped>\n",
       "    .dataframe tbody tr th:only-of-type {\n",
       "        vertical-align: middle;\n",
       "    }\n",
       "\n",
       "    .dataframe tbody tr th {\n",
       "        vertical-align: top;\n",
       "    }\n",
       "\n",
       "    .dataframe thead th {\n",
       "        text-align: right;\n",
       "    }\n",
       "</style>\n",
       "<table border=\"1\" class=\"dataframe\">\n",
       "  <thead>\n",
       "    <tr style=\"text-align: right;\">\n",
       "      <th></th>\n",
       "      <th>title</th>\n",
       "      <th>genre</th>\n",
       "      <th>director</th>\n",
       "      <th>director_url</th>\n",
       "      <th>cast</th>\n",
       "      <th>description</th>\n",
       "      <th>rateing</th>\n",
       "      <th>poster</th>\n",
       "      <th>poster_url</th>\n",
       "    </tr>\n",
       "  </thead>\n",
       "  <tbody>\n",
       "    <tr>\n",
       "      <th>0</th>\n",
       "      <td>The Shawshank Redemption</td>\n",
       "      <td>[Drama]</td>\n",
       "      <td>[FrankDarabont]</td>\n",
       "      <td>https://www.imdb.com/name/nm0001104/?ref_=adv_...</td>\n",
       "      <td>[TimRobbins,MorganFreeman,BobGunton,WilliamSad...</td>\n",
       "      <td>[Two, imprisoned, men, bond, over, a, number, ...</td>\n",
       "      <td>9.3</td>\n",
       "      <td>https://m.media-amazon.com/images/M/MV5BMDFkYT...</td>\n",
       "      <td>https://www.imdb.com/title/tt0111161/?ref_=adv...</td>\n",
       "    </tr>\n",
       "  </tbody>\n",
       "</table>\n",
       "</div>"
      ],
      "text/plain": [
       "                      title    genre         director  \\\n",
       "0  The Shawshank Redemption  [Drama]  [FrankDarabont]   \n",
       "\n",
       "                                        director_url  \\\n",
       "0  https://www.imdb.com/name/nm0001104/?ref_=adv_...   \n",
       "\n",
       "                                                cast  \\\n",
       "0  [TimRobbins,MorganFreeman,BobGunton,WilliamSad...   \n",
       "\n",
       "                                         description  rateing  \\\n",
       "0  [Two, imprisoned, men, bond, over, a, number, ...      9.3   \n",
       "\n",
       "                                              poster  \\\n",
       "0  https://m.media-amazon.com/images/M/MV5BMDFkYT...   \n",
       "\n",
       "                                          poster_url  \n",
       "0  https://www.imdb.com/title/tt0111161/?ref_=adv...  "
      ]
     },
     "execution_count": 36,
     "metadata": {},
     "output_type": "execute_result"
    }
   ],
   "source": [
    "movies_english.head(1)"
   ]
  },
  {
   "cell_type": "markdown",
   "id": "25648877",
   "metadata": {},
   "source": [
    "# Add new column \"tags\" "
   ]
  },
  {
   "cell_type": "code",
   "execution_count": 37,
   "id": "e52903b0",
   "metadata": {},
   "outputs": [],
   "source": [
    "movies_english['tags']=movies_english['description']+movies_english['genre']+movies_english['cast']+movies_english['director']\n",
    "movies_hindi['tags']=movies_hindi['description']+movies_hindi['genre']+movies_hindi['cast']+movies_hindi['director']\n",
    "movies_bengali['tags']=movies_bengali['description']+movies_bengali['genre']+movies_bengali['cast']+movies_bengali['director']"
   ]
  },
  {
   "cell_type": "code",
   "execution_count": 38,
   "id": "f18157c9",
   "metadata": {},
   "outputs": [
    {
     "data": {
      "text/plain": [
       "0       [Two, imprisoned, men, bond, over, a, number, ...\n",
       "1       [The, aging, patriarch, of, an, organized, cri...\n",
       "2       [When, the, menace, known, as, the, Joker, wre...\n",
       "3       [Gandalf, and, Aragorn, lead, the, World, of, ...\n",
       "4       [In, German-occupied, Poland, during, World, W...\n",
       "                              ...                        \n",
       "4626    [Amy,, an, 11-year-old, girl,, joins, a, group...\n",
       "4627    [A, tribe, of, cats, called, the, Jellicles, m...\n",
       "4628    [A, young, singer, dates, a, disc, jockey, who...\n",
       "4629    [Three, teens, living, in, LA,, all, victims, ...\n",
       "4630    [Inspired, by, true, events, of, 2010, Polish,...\n",
       "Name: tags, Length: 4630, dtype: object"
      ]
     },
     "execution_count": 38,
     "metadata": {},
     "output_type": "execute_result"
    }
   ],
   "source": [
    "movies_english['tags']"
   ]
  },
  {
   "cell_type": "code",
   "execution_count": 39,
   "id": "56cd78b7",
   "metadata": {},
   "outputs": [
    {
     "data": {
      "text/html": [
       "<div>\n",
       "<style scoped>\n",
       "    .dataframe tbody tr th:only-of-type {\n",
       "        vertical-align: middle;\n",
       "    }\n",
       "\n",
       "    .dataframe tbody tr th {\n",
       "        vertical-align: top;\n",
       "    }\n",
       "\n",
       "    .dataframe thead th {\n",
       "        text-align: right;\n",
       "    }\n",
       "</style>\n",
       "<table border=\"1\" class=\"dataframe\">\n",
       "  <thead>\n",
       "    <tr style=\"text-align: right;\">\n",
       "      <th></th>\n",
       "      <th>title</th>\n",
       "      <th>genre</th>\n",
       "      <th>director</th>\n",
       "      <th>director_url</th>\n",
       "      <th>cast</th>\n",
       "      <th>description</th>\n",
       "      <th>rateing</th>\n",
       "      <th>poster</th>\n",
       "      <th>poster_url</th>\n",
       "      <th>tags</th>\n",
       "    </tr>\n",
       "  </thead>\n",
       "  <tbody>\n",
       "    <tr>\n",
       "      <th>0</th>\n",
       "      <td>The Shawshank Redemption</td>\n",
       "      <td>[Drama]</td>\n",
       "      <td>[FrankDarabont]</td>\n",
       "      <td>https://www.imdb.com/name/nm0001104/?ref_=adv_...</td>\n",
       "      <td>[TimRobbins,MorganFreeman,BobGunton,WilliamSad...</td>\n",
       "      <td>[Two, imprisoned, men, bond, over, a, number, ...</td>\n",
       "      <td>9.3</td>\n",
       "      <td>https://m.media-amazon.com/images/M/MV5BMDFkYT...</td>\n",
       "      <td>https://www.imdb.com/title/tt0111161/?ref_=adv...</td>\n",
       "      <td>[Two, imprisoned, men, bond, over, a, number, ...</td>\n",
       "    </tr>\n",
       "  </tbody>\n",
       "</table>\n",
       "</div>"
      ],
      "text/plain": [
       "                      title    genre         director  \\\n",
       "0  The Shawshank Redemption  [Drama]  [FrankDarabont]   \n",
       "\n",
       "                                        director_url  \\\n",
       "0  https://www.imdb.com/name/nm0001104/?ref_=adv_...   \n",
       "\n",
       "                                                cast  \\\n",
       "0  [TimRobbins,MorganFreeman,BobGunton,WilliamSad...   \n",
       "\n",
       "                                         description  rateing  \\\n",
       "0  [Two, imprisoned, men, bond, over, a, number, ...      9.3   \n",
       "\n",
       "                                              poster  \\\n",
       "0  https://m.media-amazon.com/images/M/MV5BMDFkYT...   \n",
       "\n",
       "                                          poster_url  \\\n",
       "0  https://www.imdb.com/title/tt0111161/?ref_=adv...   \n",
       "\n",
       "                                                tags  \n",
       "0  [Two, imprisoned, men, bond, over, a, number, ...  "
      ]
     },
     "execution_count": 39,
     "metadata": {},
     "output_type": "execute_result"
    }
   ],
   "source": [
    "movies_english.head(1)"
   ]
  },
  {
   "cell_type": "code",
   "execution_count": 40,
   "id": "f2b05c81",
   "metadata": {},
   "outputs": [
    {
     "data": {
      "text/html": [
       "<div>\n",
       "<style scoped>\n",
       "    .dataframe tbody tr th:only-of-type {\n",
       "        vertical-align: middle;\n",
       "    }\n",
       "\n",
       "    .dataframe tbody tr th {\n",
       "        vertical-align: top;\n",
       "    }\n",
       "\n",
       "    .dataframe thead th {\n",
       "        text-align: right;\n",
       "    }\n",
       "</style>\n",
       "<table border=\"1\" class=\"dataframe\">\n",
       "  <thead>\n",
       "    <tr style=\"text-align: right;\">\n",
       "      <th></th>\n",
       "      <th>title</th>\n",
       "      <th>genre</th>\n",
       "      <th>description</th>\n",
       "      <th>director</th>\n",
       "      <th>director_url</th>\n",
       "      <th>cast</th>\n",
       "      <th>poster</th>\n",
       "      <th>poster_url</th>\n",
       "      <th>tags</th>\n",
       "    </tr>\n",
       "  </thead>\n",
       "  <tbody>\n",
       "    <tr>\n",
       "      <th>0</th>\n",
       "      <td>3 Idiots</td>\n",
       "      <td>[Comedy,, Drama]</td>\n",
       "      <td>[Two, friends, are, searching, for, their, lon...</td>\n",
       "      <td>[RajkumarHirani]</td>\n",
       "      <td>https://www.imdb.com/name/nm0386246/?ref_=adv_...</td>\n",
       "      <td>[AamirKhan,Madhavan,MonaSingh,SharmanJoshi]</td>\n",
       "      <td>https://m.media-amazon.com/images/M/MV5BNTkyOG...</td>\n",
       "      <td>https://www.imdb.com/title/tt1187043/?ref_=adv...</td>\n",
       "      <td>[Two, friends, are, searching, for, their, lon...</td>\n",
       "    </tr>\n",
       "  </tbody>\n",
       "</table>\n",
       "</div>"
      ],
      "text/plain": [
       "      title             genre  \\\n",
       "0  3 Idiots  [Comedy,, Drama]   \n",
       "\n",
       "                                         description          director  \\\n",
       "0  [Two, friends, are, searching, for, their, lon...  [RajkumarHirani]   \n",
       "\n",
       "                                        director_url  \\\n",
       "0  https://www.imdb.com/name/nm0386246/?ref_=adv_...   \n",
       "\n",
       "                                          cast  \\\n",
       "0  [AamirKhan,Madhavan,MonaSingh,SharmanJoshi]   \n",
       "\n",
       "                                              poster  \\\n",
       "0  https://m.media-amazon.com/images/M/MV5BNTkyOG...   \n",
       "\n",
       "                                          poster_url  \\\n",
       "0  https://www.imdb.com/title/tt1187043/?ref_=adv...   \n",
       "\n",
       "                                                tags  \n",
       "0  [Two, friends, are, searching, for, their, lon...  "
      ]
     },
     "execution_count": 40,
     "metadata": {},
     "output_type": "execute_result"
    }
   ],
   "source": [
    "movies_hindi.head(1)"
   ]
  },
  {
   "cell_type": "code",
   "execution_count": 41,
   "id": "3efeb418",
   "metadata": {},
   "outputs": [
    {
     "data": {
      "text/html": [
       "<div>\n",
       "<style scoped>\n",
       "    .dataframe tbody tr th:only-of-type {\n",
       "        vertical-align: middle;\n",
       "    }\n",
       "\n",
       "    .dataframe tbody tr th {\n",
       "        vertical-align: top;\n",
       "    }\n",
       "\n",
       "    .dataframe thead th {\n",
       "        text-align: right;\n",
       "    }\n",
       "</style>\n",
       "<table border=\"1\" class=\"dataframe\">\n",
       "  <thead>\n",
       "    <tr style=\"text-align: right;\">\n",
       "      <th></th>\n",
       "      <th>title</th>\n",
       "      <th>genre</th>\n",
       "      <th>director</th>\n",
       "      <th>director_url</th>\n",
       "      <th>cast</th>\n",
       "      <th>description</th>\n",
       "      <th>poster</th>\n",
       "      <th>poster_url</th>\n",
       "      <th>tags</th>\n",
       "    </tr>\n",
       "  </thead>\n",
       "  <tbody>\n",
       "    <tr>\n",
       "      <th>0</th>\n",
       "      <td>Redrum</td>\n",
       "      <td>[Mystery,, Thriller]</td>\n",
       "      <td>[VickyZahed]</td>\n",
       "      <td>https://www.imdb.com/name/nm5418890/?ref_=adv_...</td>\n",
       "      <td>[MehazabienChowdhury,AzizulHakim,NasirUddinKha...</td>\n",
       "      <td>[Famous, musician, Shohel, is, found, dead, in...</td>\n",
       "      <td>https://m.media-amazon.com/images/M/MV5BNWFmYj...</td>\n",
       "      <td>https://www.imdb.com/title/tt18184122/?ref_=ad...</td>\n",
       "      <td>[Famous, musician, Shohel, is, found, dead, in...</td>\n",
       "    </tr>\n",
       "  </tbody>\n",
       "</table>\n",
       "</div>"
      ],
      "text/plain": [
       "    title                 genre      director  \\\n",
       "0  Redrum  [Mystery,, Thriller]  [VickyZahed]   \n",
       "\n",
       "                                        director_url  \\\n",
       "0  https://www.imdb.com/name/nm5418890/?ref_=adv_...   \n",
       "\n",
       "                                                cast  \\\n",
       "0  [MehazabienChowdhury,AzizulHakim,NasirUddinKha...   \n",
       "\n",
       "                                         description  \\\n",
       "0  [Famous, musician, Shohel, is, found, dead, in...   \n",
       "\n",
       "                                              poster  \\\n",
       "0  https://m.media-amazon.com/images/M/MV5BNWFmYj...   \n",
       "\n",
       "                                          poster_url  \\\n",
       "0  https://www.imdb.com/title/tt18184122/?ref_=ad...   \n",
       "\n",
       "                                                tags  \n",
       "0  [Famous, musician, Shohel, is, found, dead, in...  "
      ]
     },
     "execution_count": 41,
     "metadata": {},
     "output_type": "execute_result"
    }
   ],
   "source": [
    "movies_bengali.head(1)"
   ]
  },
  {
   "cell_type": "markdown",
   "id": "2f4f31f0",
   "metadata": {},
   "source": [
    "# Form 3 new data sets of movies containing 'Title' and 'Tags'"
   ]
  },
  {
   "cell_type": "code",
   "execution_count": 42,
   "id": "076f30cd",
   "metadata": {},
   "outputs": [],
   "source": [
    "df_english=movies_english[['title','tags','poster_url']]\n",
    "df_hindi=movies_hindi[['title','tags','poster_url']]\n",
    "df_bengali=movies_bengali[['title','tags','poster_url']]"
   ]
  },
  {
   "cell_type": "code",
   "execution_count": 43,
   "id": "86e38a60",
   "metadata": {},
   "outputs": [
    {
     "name": "stderr",
     "output_type": "stream",
     "text": [
      "C:\\Users\\MAINAK\\AppData\\Local\\Temp/ipykernel_11336/1991139072.py:1: SettingWithCopyWarning: \n",
      "A value is trying to be set on a copy of a slice from a DataFrame.\n",
      "Try using .loc[row_indexer,col_indexer] = value instead\n",
      "\n",
      "See the caveats in the documentation: https://pandas.pydata.org/pandas-docs/stable/user_guide/indexing.html#returning-a-view-versus-a-copy\n",
      "  df_english['tags']=df_english['tags'].apply(lambda x:\" \".join(x))\n",
      "C:\\Users\\MAINAK\\AppData\\Local\\Temp/ipykernel_11336/1991139072.py:2: SettingWithCopyWarning: \n",
      "A value is trying to be set on a copy of a slice from a DataFrame.\n",
      "Try using .loc[row_indexer,col_indexer] = value instead\n",
      "\n",
      "See the caveats in the documentation: https://pandas.pydata.org/pandas-docs/stable/user_guide/indexing.html#returning-a-view-versus-a-copy\n",
      "  df_hindi['tags']=df_hindi['tags'].apply(lambda x:\" \".join(x))\n",
      "C:\\Users\\MAINAK\\AppData\\Local\\Temp/ipykernel_11336/1991139072.py:3: SettingWithCopyWarning: \n",
      "A value is trying to be set on a copy of a slice from a DataFrame.\n",
      "Try using .loc[row_indexer,col_indexer] = value instead\n",
      "\n",
      "See the caveats in the documentation: https://pandas.pydata.org/pandas-docs/stable/user_guide/indexing.html#returning-a-view-versus-a-copy\n",
      "  df_bengali['tags']=df_bengali['tags'].apply(lambda x:\" \".join(x))\n"
     ]
    }
   ],
   "source": [
    "df_english['tags']=df_english['tags'].apply(lambda x:\" \".join(x))\n",
    "df_hindi['tags']=df_hindi['tags'].apply(lambda x:\" \".join(x))\n",
    "df_bengali['tags']=df_bengali['tags'].apply(lambda x:\" \".join(x))"
   ]
  },
  {
   "cell_type": "code",
   "execution_count": 44,
   "id": "4e302f15",
   "metadata": {},
   "outputs": [
    {
     "data": {
      "text/html": [
       "<div>\n",
       "<style scoped>\n",
       "    .dataframe tbody tr th:only-of-type {\n",
       "        vertical-align: middle;\n",
       "    }\n",
       "\n",
       "    .dataframe tbody tr th {\n",
       "        vertical-align: top;\n",
       "    }\n",
       "\n",
       "    .dataframe thead th {\n",
       "        text-align: right;\n",
       "    }\n",
       "</style>\n",
       "<table border=\"1\" class=\"dataframe\">\n",
       "  <thead>\n",
       "    <tr style=\"text-align: right;\">\n",
       "      <th></th>\n",
       "      <th>title</th>\n",
       "      <th>tags</th>\n",
       "      <th>poster_url</th>\n",
       "    </tr>\n",
       "  </thead>\n",
       "  <tbody>\n",
       "    <tr>\n",
       "      <th>0</th>\n",
       "      <td>The Shawshank Redemption</td>\n",
       "      <td>Two imprisoned men bond over a number of years...</td>\n",
       "      <td>https://www.imdb.com/title/tt0111161/?ref_=adv...</td>\n",
       "    </tr>\n",
       "    <tr>\n",
       "      <th>1</th>\n",
       "      <td>The Godfather</td>\n",
       "      <td>The aging patriarch of an organized crime dyna...</td>\n",
       "      <td>https://www.imdb.com/title/tt0068646/?ref_=adv...</td>\n",
       "    </tr>\n",
       "    <tr>\n",
       "      <th>2</th>\n",
       "      <td>The Dark Knight</td>\n",
       "      <td>When the menace known as the Joker wreaks havo...</td>\n",
       "      <td>https://www.imdb.com/title/tt0468569/?ref_=adv...</td>\n",
       "    </tr>\n",
       "    <tr>\n",
       "      <th>3</th>\n",
       "      <td>The Lord of the Rings: The Return of the King</td>\n",
       "      <td>Gandalf and Aragorn lead the World of Men agai...</td>\n",
       "      <td>https://www.imdb.com/title/tt0167260/?ref_=adv...</td>\n",
       "    </tr>\n",
       "    <tr>\n",
       "      <th>4</th>\n",
       "      <td>Schindler's List</td>\n",
       "      <td>In German-occupied Poland during World War II,...</td>\n",
       "      <td>https://www.imdb.com/title/tt0108052/?ref_=adv...</td>\n",
       "    </tr>\n",
       "  </tbody>\n",
       "</table>\n",
       "</div>"
      ],
      "text/plain": [
       "                                           title  \\\n",
       "0                       The Shawshank Redemption   \n",
       "1                                  The Godfather   \n",
       "2                                The Dark Knight   \n",
       "3  The Lord of the Rings: The Return of the King   \n",
       "4                               Schindler's List   \n",
       "\n",
       "                                                tags  \\\n",
       "0  Two imprisoned men bond over a number of years...   \n",
       "1  The aging patriarch of an organized crime dyna...   \n",
       "2  When the menace known as the Joker wreaks havo...   \n",
       "3  Gandalf and Aragorn lead the World of Men agai...   \n",
       "4  In German-occupied Poland during World War II,...   \n",
       "\n",
       "                                          poster_url  \n",
       "0  https://www.imdb.com/title/tt0111161/?ref_=adv...  \n",
       "1  https://www.imdb.com/title/tt0068646/?ref_=adv...  \n",
       "2  https://www.imdb.com/title/tt0468569/?ref_=adv...  \n",
       "3  https://www.imdb.com/title/tt0167260/?ref_=adv...  \n",
       "4  https://www.imdb.com/title/tt0108052/?ref_=adv...  "
      ]
     },
     "execution_count": 44,
     "metadata": {},
     "output_type": "execute_result"
    }
   ],
   "source": [
    "df_english.head()"
   ]
  },
  {
   "cell_type": "code",
   "execution_count": 45,
   "id": "a51c893a",
   "metadata": {},
   "outputs": [
    {
     "name": "stderr",
     "output_type": "stream",
     "text": [
      "C:\\Users\\MAINAK\\AppData\\Local\\Temp/ipykernel_11336/3587113109.py:1: SettingWithCopyWarning: \n",
      "A value is trying to be set on a copy of a slice from a DataFrame.\n",
      "Try using .loc[row_indexer,col_indexer] = value instead\n",
      "\n",
      "See the caveats in the documentation: https://pandas.pydata.org/pandas-docs/stable/user_guide/indexing.html#returning-a-view-versus-a-copy\n",
      "  df_english['tags']=df_english['tags'].apply(lambda x:x.lower())\n",
      "C:\\Users\\MAINAK\\AppData\\Local\\Temp/ipykernel_11336/3587113109.py:2: SettingWithCopyWarning: \n",
      "A value is trying to be set on a copy of a slice from a DataFrame.\n",
      "Try using .loc[row_indexer,col_indexer] = value instead\n",
      "\n",
      "See the caveats in the documentation: https://pandas.pydata.org/pandas-docs/stable/user_guide/indexing.html#returning-a-view-versus-a-copy\n",
      "  df_hindi['tags']=df_hindi['tags'].apply(lambda x:x.lower())\n",
      "C:\\Users\\MAINAK\\AppData\\Local\\Temp/ipykernel_11336/3587113109.py:3: SettingWithCopyWarning: \n",
      "A value is trying to be set on a copy of a slice from a DataFrame.\n",
      "Try using .loc[row_indexer,col_indexer] = value instead\n",
      "\n",
      "See the caveats in the documentation: https://pandas.pydata.org/pandas-docs/stable/user_guide/indexing.html#returning-a-view-versus-a-copy\n",
      "  df_bengali['tags']=df_bengali['tags'].apply(lambda x:x.lower())\n"
     ]
    }
   ],
   "source": [
    "df_english['tags']=df_english['tags'].apply(lambda x:x.lower())\n",
    "df_hindi['tags']=df_hindi['tags'].apply(lambda x:x.lower())\n",
    "df_bengali['tags']=df_bengali['tags'].apply(lambda x:x.lower())"
   ]
  },
  {
   "cell_type": "code",
   "execution_count": 46,
   "id": "37c79049",
   "metadata": {},
   "outputs": [],
   "source": [
    "import nltk\n",
    "\n",
    "from nltk.stem.porter import PorterStemmer\n",
    "ps= PorterStemmer()\n",
    "\n",
    "def stem(text):\n",
    "    y=[]\n",
    "    for i in text.split():\n",
    "        y.append(ps.stem(i))\n",
    "        \n",
    "    return \" \".join(y)"
   ]
  },
  {
   "cell_type": "code",
   "execution_count": 47,
   "id": "c4e946a7",
   "metadata": {},
   "outputs": [
    {
     "name": "stderr",
     "output_type": "stream",
     "text": [
      "C:\\Users\\MAINAK\\AppData\\Local\\Temp/ipykernel_11336/2766650461.py:1: SettingWithCopyWarning: \n",
      "A value is trying to be set on a copy of a slice from a DataFrame.\n",
      "Try using .loc[row_indexer,col_indexer] = value instead\n",
      "\n",
      "See the caveats in the documentation: https://pandas.pydata.org/pandas-docs/stable/user_guide/indexing.html#returning-a-view-versus-a-copy\n",
      "  df_english['tags']=df_english['tags'].apply(stem)\n",
      "C:\\Users\\MAINAK\\AppData\\Local\\Temp/ipykernel_11336/2766650461.py:2: SettingWithCopyWarning: \n",
      "A value is trying to be set on a copy of a slice from a DataFrame.\n",
      "Try using .loc[row_indexer,col_indexer] = value instead\n",
      "\n",
      "See the caveats in the documentation: https://pandas.pydata.org/pandas-docs/stable/user_guide/indexing.html#returning-a-view-versus-a-copy\n",
      "  df_hindi['tags']=df_hindi['tags'].apply(stem)\n",
      "C:\\Users\\MAINAK\\AppData\\Local\\Temp/ipykernel_11336/2766650461.py:3: SettingWithCopyWarning: \n",
      "A value is trying to be set on a copy of a slice from a DataFrame.\n",
      "Try using .loc[row_indexer,col_indexer] = value instead\n",
      "\n",
      "See the caveats in the documentation: https://pandas.pydata.org/pandas-docs/stable/user_guide/indexing.html#returning-a-view-versus-a-copy\n",
      "  df_bengali['tags']=df_bengali['tags'].apply(stem)\n"
     ]
    }
   ],
   "source": [
    "df_english['tags']=df_english['tags'].apply(stem)\n",
    "df_hindi['tags']=df_hindi['tags'].apply(stem)\n",
    "df_bengali['tags']=df_bengali['tags'].apply(stem)"
   ]
  },
  {
   "cell_type": "code",
   "execution_count": 48,
   "id": "4771018f",
   "metadata": {},
   "outputs": [
    {
     "name": "stderr",
     "output_type": "stream",
     "text": [
      "C:\\Users\\MAINAK\\anaconda3\\lib\\site-packages\\pandas\\core\\frame.py:5039: SettingWithCopyWarning: \n",
      "A value is trying to be set on a copy of a slice from a DataFrame\n",
      "\n",
      "See the caveats in the documentation: https://pandas.pydata.org/pandas-docs/stable/user_guide/indexing.html#returning-a-view-versus-a-copy\n",
      "  return super().rename(\n"
     ]
    }
   ],
   "source": [
    "df_english.rename(columns = {'original_title':'title'}, inplace = True)"
   ]
  },
  {
   "cell_type": "code",
   "execution_count": 51,
   "id": "3bc86ba8",
   "metadata": {
    "scrolled": false
   },
   "outputs": [
    {
     "name": "stdout",
     "output_type": "stream",
     "text": [
      "Type 1 for English, Type 2 for Hindi, Type 3 for bengali : 2\n",
      "Type Movie Name: 3 Idiots\n",
      "\u001b[7;32m Your movie recommendation related to {movie}  \u001b[7;34m 3 Idiots \n",
      "\n",
      "Zindagi Na Milegi Dobara\n",
      "Purani Jeans\n",
      "Jaane Tu\n",
      "Mungerilal B Tech\n",
      "Karwaan\n"
     ]
    }
   ],
   "source": [
    "val = int(input('Type 1 for English, Type 2 for Hindi, Type 3 for bengali : '))\n",
    "\n",
    "\n",
    "if (val==1):\n",
    "    final_df=df_english\n",
    "    \n",
    "elif(val==2):\n",
    "    final_df=df_hindi\n",
    "    \n",
    "elif(val==3):\n",
    "    final_df=df_bengali\n",
    "    \n",
    "else:\n",
    "    print('you enter wrong value')\n",
    "\n",
    "final_df.head(1)\n",
    "\n",
    "\n",
    "from sklearn.feature_extraction.text import CountVectorizer\n",
    "\n",
    "cv= CountVectorizer(max_features=5000,stop_words='english')\n",
    "\n",
    "vectors=cv.fit_transform(final_df['tags']).toarray()\n",
    "\n",
    "from sklearn.metrics.pairwise import cosine_similarity as cs\n",
    "\n",
    "similarity=cs(vectors)\n",
    "\n",
    "def recommend(movie):\n",
    "    movie_index=final_df[final_df['title']==movie].index[0]\n",
    "    distances=similarity[movie_index]\n",
    "    movie_list=sorted(list(enumerate(distances)),reverse=True,key=lambda x:x[1])[1:6]\n",
    "    \n",
    "    for i in movie_list:\n",
    "        print(final_df['title'].iloc[i[0]])\n",
    "\n",
    "movie=input('Type Movie Name: ') \n",
    "\n",
    "print('\\033[7;32m Your movie recommendation related to {movie} ',f'\\033[7;34m {movie} \\n')\n",
    "\n",
    "recommend(movie)\n"
   ]
  },
  {
   "cell_type": "code",
   "execution_count": 53,
   "id": "26dabcca",
   "metadata": {},
   "outputs": [],
   "source": [
    "#pickle.dump(df_english.to_dict(),open('df_english.pkl','wb'))\n",
    "\n",
    "#pickle.dump(df_hindi.to_dict(),open('df_hindi.pkl','wb'))\n",
    "#pickle.dump(df_bengali.to_dict(),open('df_bengali.pkl','wb'))\n",
    "\n",
    "#vectors1=cv.fit_transform(df_english['tags']).toarray()\n",
    "#similarity1=cs(vectors1)\n",
    "#vectors2=cv.fit_transform(df_hindi['tags']).toarray()\n",
    "#similarity2=cs(vectors2)\n",
    "#vectors3=cv.fit_transform(df_bengali['tags']).toarray()\n",
    "#similarity3=cs(vectors3)\n",
    "#similarity3\n",
    "\n",
    "#pickle.dump(similarity1,open('similarity1.pkl','wb'))\n",
    "#pickle.dump(similarity2,open('similarity2.pkl','wb'))\n",
    "#pickle.dump(similarity3,open('similarity3.pkl','wb'))\n",
    "\n",
    "poster_english=movies_english[['title','poster_url']]\n",
    "poster_hindi=movies_hindi[['title','poster_url']]\n",
    "poster_bengali=movies_bengali[['title','poster_url']]\n",
    "poster_bengali\n"
   ]
  },
  {
   "cell_type": "code",
   "execution_count": null,
   "id": "9903eda6",
   "metadata": {},
   "outputs": [],
   "source": []
  }
 ],
 "metadata": {
  "kernelspec": {
   "display_name": "Python 3 (ipykernel)",
   "language": "python",
   "name": "python3"
  },
  "language_info": {
   "codemirror_mode": {
    "name": "ipython",
    "version": 3
   },
   "file_extension": ".py",
   "mimetype": "text/x-python",
   "name": "python",
   "nbconvert_exporter": "python",
   "pygments_lexer": "ipython3",
   "version": "3.9.7"
  }
 },
 "nbformat": 4,
 "nbformat_minor": 5
}
